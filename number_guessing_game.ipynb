{
  "nbformat": 4,
  "nbformat_minor": 0,
  "metadata": {
    "colab": {
      "provenance": []
    },
    "kernelspec": {
      "name": "python3",
      "display_name": "Python 3"
    },
    "language_info": {
      "name": "python"
    }
  },
  "cells": [
    {
      "cell_type": "code",
      "source": [
        "import random\n",
        "\n",
        "def number_guessing_game():\n",
        "    # Step 1: Generate a random number between 1 and 100\n",
        "    secret_number = random.randint(1, 100)\n",
        "    attempts = 0  # Variable to store the number of attempts\n",
        "\n",
        "    print(\"Welcome to the Number Guessing Game!\")\n",
        "    print(\"I have selected a number between 1 and 100. Can you guess it?\")\n",
        "\n",
        "    while True:\n",
        "        # Step 2: Ask the user for their guess\n",
        "        try:\n",
        "            guess = int(input(\"Enter your guess: \"))  # Take user input and convert it to an integer\n",
        "            attempts += 1  # Increment the attempts counter\n",
        "\n",
        "            # Step 3: Check if the guess is correct\n",
        "            if guess < secret_number:\n",
        "                print(\"Too low! Try again.\")\n",
        "            elif guess > secret_number:\n",
        "                print(\"Too high! Try again.\")\n",
        "            else:\n",
        "                print(f\"Congratulations! You've guessed the number {secret_number} in {attempts} attempts.\")\n",
        "                break  # Exit the loop when the guess is correct\n",
        "\n",
        "        except ValueError:\n",
        "            print(\"Please enter a valid number.\")\n",
        "\n",
        "# Start the game\n",
        "number_guessing_game()\n"
      ],
      "metadata": {
        "colab": {
          "base_uri": "https://localhost:8080/"
        },
        "id": "8mstLQ2Vv3k7",
        "outputId": "d4d672da-f872-45af-e0f9-af9aa2c97b50"
      },
      "execution_count": null,
      "outputs": [
        {
          "output_type": "stream",
          "name": "stdout",
          "text": [
            "Welcome to the Number Guessing Game!\n",
            "I have selected a number between 1 and 100. Can you guess it?\n"
          ]
        }
      ]
    }
  ]
}